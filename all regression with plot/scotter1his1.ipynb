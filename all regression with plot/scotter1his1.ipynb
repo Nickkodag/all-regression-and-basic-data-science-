{
  "nbformat": 4,
  "nbformat_minor": 0,
  "metadata": {
    "colab": {
      "name": "scotter1his1.ipynb",
      "provenance": []
    },
    "kernelspec": {
      "name": "python3",
      "display_name": "Python 3"
    }
  },
  "cells": [
    {
      "cell_type": "markdown",
      "metadata": {
        "id": "HhFK5N5aIxnF"
      },
      "source": [
        "Scatter plot to show dots \n"
      ]
    },
    {
      "cell_type": "code",
      "metadata": {
        "id": "VOb3LMxzMX4o"
      },
      "source": [
        "import matplotlib.pyplot as plt\n"
      ],
      "execution_count": 15,
      "outputs": []
    },
    {
      "cell_type": "code",
      "metadata": {
        "id": "SglAGHdCIwK8"
      },
      "source": [
        "x = [5,7,8,7,2,17,2,9,4,11,12,9,6]\n",
        "\n",
        "y = [99,86,87,88,111,86,103,87,94,78,77,85,86]"
      ],
      "execution_count": 16,
      "outputs": []
    },
    {
      "cell_type": "code",
      "metadata": {
        "id": "7mqhixL4Mh0T",
        "outputId": "05830645-8dbf-4d60-e3e1-4e66cd8bc8f4",
        "colab": {
          "base_uri": "https://localhost:8080/",
          "height": 265
        }
      },
      "source": [
        "\n",
        "plt.scatter(x, y)\n",
        "plt.show()"
      ],
      "execution_count": 17,
      "outputs": [
        {
          "output_type": "display_data",
          "data": {
            "image/png": "[encoded data removed]",
            "text/plain": [
              "<Figure size 432x288 with 1 Axes>"
            ]
          },
          "metadata": {
            "tags": [],
            "needs_background": "light"
          }
        }
      ]
    },
    {
      "cell_type": "code",
      "metadata": {
        "id": "QsofkdKNMt6N"
      },
      "source": [
        "#to shocase 1000 dots since we work on machine learing data mil and tri data will be there \n",
        "# to work on that i'm using this code "
      ],
      "execution_count": 18,
      "outputs": []
    },
    {
      "cell_type": "code",
      "metadata": {
        "id": "VfrtQ8IkNCZ6"
      },
      "source": [
        "import numpy"
      ],
      "execution_count": 19,
      "outputs": []
    },
    {
      "cell_type": "code",
      "metadata": {
        "id": "nr91V9HJNF11"
      },
      "source": [
        "x = numpy.random.normal(5.0, 1.0, 2000*100)\n",
        "y = numpy.random.normal(10.0, 2.0, 2000*100)"
      ],
      "execution_count": 20,
      "outputs": []
    },
    {
      "cell_type": "code",
      "metadata": {
        "id": "8nsB-nNYNJJF",
        "outputId": "6f0d3d99-0a5d-43cd-a8d8-0c919d790651",
        "colab": {
          "base_uri": "https://localhost:8080/",
          "height": 265
        }
      },
      "source": [
        "\n",
        "plt.scatter(x, y)\n",
        "plt.show()"
      ],
      "execution_count": 21,
      "outputs": [
        {
          "output_type": "display_data",
          "data": {
            "image/png": "[encoded data removed]",
            "text/plain": [
              "<Figure size 432x288 with 1 Axes>"
            ]
          },
          "metadata": {
            "tags": [],
            "needs_background": "light"
          }
        }
      ]
    },
    {
      "cell_type": "code",
      "metadata": {
        "id": "fAu_FnjBOzye",
        "outputId": "09f36023-e923-4c91-ceb3-bdd2b12ad113",
        "colab": {
          "base_uri": "https://localhost:8080/",
          "height": 265
        }
      },
      "source": [
        "x = numpy.random.normal(5.0, 1.0, 100)\n",
        "\n",
        "plt.hist(x, 100)\n",
        "plt.show()"
      ],
      "execution_count": 24,
      "outputs": [
        {
          "output_type": "display_data",
          "data": {
            "image/png": "[encoded data removed]",
            "text/plain": [
              "<Figure size 432x288 with 1 Axes>"
            ]
          },
          "metadata": {
            "tags": [],
            "needs_background": "light"
          }
        }
      ]
    },
    {
      "cell_type": "code",
      "metadata": {
        "id": "BV3SyQzHPRMV",
        "outputId": "7df92424-b22c-43c6-b094-e971844a518c",
        "colab": {
          "base_uri": "https://localhost:8080/",
          "height": 55
        }
      },
      "source": [
        "\n",
        "y = [99,86,87,88,111,86,103,87,94,78,77,85,86]\n",
        "\n",
        "x = numpy.percentile(y, 75)\n",
        "\n",
        "print(x)# to shocase per\n",
        "z= numpy.std(y)\n",
        "z"
      ],
      "execution_count": 30,
      "outputs": [
        {
          "output_type": "stream",
          "text": [
            "94.0\n"
          ],
          "name": "stdout"
        },
        {
          "output_type": "execute_result",
          "data": {
            "text/plain": [
              "9.258292301032677"
            ]
          },
          "metadata": {
            "tags": []
          },
          "execution_count": 30
        }
      ]
    }
  ]
}